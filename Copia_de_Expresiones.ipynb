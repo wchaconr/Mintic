{
  "nbformat": 4,
  "nbformat_minor": 0,
  "metadata": {
    "colab": {
      "name": "Copia de Expresiones.ipynb",
      "provenance": [],
      "collapsed_sections": [],
      "toc_visible": true,
      "include_colab_link": true
    },
    "kernelspec": {
      "name": "python3",
      "display_name": "Python 3"
    },
    "language_info": {
      "name": "python"
    }
  },
  "cells": [
    {
      "cell_type": "markdown",
      "metadata": {
        "id": "view-in-github",
        "colab_type": "text"
      },
      "source": [
        "<a href=\"https://colab.research.google.com/github/wchaconr/Mintic/blob/main/Copia_de_Expresiones.ipynb\" target=\"_parent\"><img src=\"https://colab.research.google.com/assets/colab-badge.svg\" alt=\"Open In Colab\"/></a>"
      ]
    },
    {
      "cell_type": "markdown",
      "metadata": {
        "id": "HXwJzI0u2Fev"
      },
      "source": [
        "# Laboratorio 2.2\n",
        "\n",
        "*Elaborado por Oscar Franco-Bedoya*\n",
        "\n",
        "*`Proyecto Misión TIC 2022*\n",
        "\n",
        "\n",
        "## Objetivo\n",
        "En este laboratorio vamos a poner en práctica el manejo de **expresiones** en Python, específicamente con los operadores aritméticos (suma, resta, multiplicación y división). Para ello resolveremos algunos casos prácticos y tambien evaluaremos expresiones aritméticas que nos ayuden a  familiarizarnos con este tema. \n",
        "\n",
        "## Temperatura\n",
        "Con la epidemia generada por el virus COVID-19 se incrementó la importación de termómetros digitales, sin embargo, al verificar un lote de más de 10000 termómetros, se percatarón que solo toma la temperatura en grados Fahrenheit y se necesita poder convertirlos a grados centígrados. Afortunadamente  nos han dado la fórmula de conversión\n",
        "\n",
        "$$ C=(F-32)*\\frac{5}{9} $$\n",
        "\n",
        "El siguiente es el programa que realiza la conversión\n",
        "\n",
        "*Recuerda que se ejecuta con el icono de play en la esquina la izquierda*"
      ]
    },
    {
      "cell_type": "code",
      "metadata": {
        "id": "J_1g8Pby17iU",
        "outputId": "d757ebbd-31b9-46b8-d2c8-3cf4c24d01c0",
        "colab": {
          "base_uri": "https://localhost:8080/"
        }
      },
      "source": [
        "# código fuente para convertir grados fahrenheit  a grados centígrados\n",
        "f=100 #define la variable f con la asignación del valor\n",
        "c=(f-32)*5/9  #conversión\n",
        "print(f,\"Grados fahrenheit es equivalente a\",c,\"grados centígrados\")"
      ],
      "execution_count": null,
      "outputs": [
        {
          "output_type": "stream",
          "name": "stdout",
          "text": [
            "100 Grados fahrenheit es equivalente a 37.77777777777778 grados centígrados\n"
          ]
        }
      ]
    },
    {
      "cell_type": "markdown",
      "metadata": {
        "id": "cfZ14BDZ7bWq"
      },
      "source": [
        "## Temperatura dos\n",
        "Dado el éxito del programa anterior, nos han solicitado un nuevo programa que convierta la temperatura de grados centígrados a grados Fahrenheit. La fórmula de conversión es la siguiente\n",
        "\n",
        "$$ F=(C*\\frac{9}{5})+32 $$\n",
        "\n",
        "Escribe el programa en la siguiente celda"
      ]
    },
    {
      "cell_type": "code",
      "metadata": {
        "id": "dFnLJpNU9MMF",
        "outputId": "66dbd77a-fbb0-4006-f3e6-2f5cc5dd4021",
        "colab": {
          "base_uri": "https://localhost:8080/"
        }
      },
      "source": [
        "# codifica aqui\n",
        "Tc=37.777\n",
        "f=(Tc*9/5)+32\n",
        "print(Tc,\"Grados centígrados es equivalente a\",f,\"grados fahrenheit\")"
      ],
      "execution_count": null,
      "outputs": [
        {
          "output_type": "stream",
          "name": "stdout",
          "text": [
            "37.777 Grados centígrados es equivalente a 99.9986 grados fahrenheit\n"
          ]
        }
      ]
    },
    {
      "cell_type": "markdown",
      "metadata": {
        "id": "nvy6bEB995rz"
      },
      "source": [
        "<details>\n",
        "<summary>Dale a la flecha si necesitas una pista</summary>\n",
        "<pre><code>\n",
        "c=10\n",
        "f= #completa con la expresión\n",
        "print(c,\"Grados centigrados es equivalente a\",f,\"grados Farenheit\")\n",
        "<code><pre>\n",
        "</details>"
      ]
    },
    {
      "cell_type": "markdown",
      "metadata": {
        "id": "0CJzw0KyIO1G"
      },
      "source": [
        "## Orden de las operaciones\n",
        "Cuando mas de un operador aparece en una expresión, el órden en que se evalúan depende de las **reglas de precedencia** Que son\n",
        "\n",
        "\n",
        "1.   Los paréntesis tienen el mayor valor de procedencia\n",
        "2.   El siguiente puesto es para la exponenciación\n",
        "3.   Multiplicación y División tienen la misma precedencia\n",
        "4.   Por último están la suma y la resta\n",
        "5.   Si en la expresión hay operadores con la misma presedencia, se evalúan de izquierda a derecha\n"
      ]
    },
    {
      "cell_type": "markdown",
      "metadata": {
        "id": "K_OwNDYCIXUX"
      },
      "source": [
        "### Ejercicios presedencia\n",
        "\n",
        "Calcula el resultado de estas expresiones, antes de caer en la tentación de probarlas en Python.Luego de que lo hagas, cae en la tentación.\n",
        "*  $2*(3-1)$\n",
        "*   $(1+1)**(5-2)$\n",
        "*   $400*100/(20-10+50)$\n",
        "*   $2**1+1$\n",
        "*   $3*1**3$\n",
        "*   $2*3-1$\n",
        "*   $5-3-1$\n",
        "*   $+--2$\n",
        "*   $-5/2-2$\n",
        "*   $-5//2-2$\n",
        "*   $3\\%2/5-8*3*15+18/8-*5$\n",
        "\n"
      ]
    },
    {
      "cell_type": "code",
      "metadata": {
        "colab": {
          "base_uri": "https://localhost:8080/"
        },
        "id": "Mf_b2h4TKt5-",
        "outputId": "f920a970-fdfe-4571-99ce-f71d2ee1700f"
      },
      "source": [
        "#Escribe las expresiones aquí\n",
        "a=2*(3-1)\n",
        "print (a)\n",
        "b=(1+1)**(5-3)\n",
        "print (b)\n",
        "c=400*100/(20-10+50)\n",
        "print (c)\n",
        "d=2**1+1\n",
        "print (d)\n",
        "e=3*1**3\n",
        "print (e)\n",
        "f=2*3-1\n",
        "print (f)\n",
        "g=5-3-1\n",
        "print (g)\n",
        "h=+--2\n",
        "print (h)\n",
        "i=-5/2-2\n",
        "print (i)\n",
        "j=-5//2-2\n",
        "print (j)\n",
        "k=3%2/5-8*3*15+18/8*-5\n",
        "print (k)"
      ],
      "execution_count": 25,
      "outputs": [
        {
          "output_type": "stream",
          "name": "stdout",
          "text": [
            "4\n",
            "4\n",
            "666.6666666666666\n",
            "3\n",
            "3\n",
            "5\n",
            "1\n",
            "2\n",
            "-4.5\n",
            "-5\n",
            "-371.05\n"
          ]
        }
      ]
    },
    {
      "cell_type": "markdown",
      "metadata": {
        "id": "CetBvTDMK6xS"
      },
      "source": [
        "<details>\n",
        "<summary>Dale a la flecha si necesitas una pista</summary>\n",
        "<pre><code>\n",
        "2*(3-1) #solo escribe las expresiones y prueba ejecutando el programa\n",
        "\n",
        "<code><pre>\n",
        "</details>"
      ]
    },
    {
      "cell_type": "markdown",
      "metadata": {
        "id": "-b6GsA30N559"
      },
      "source": [
        "## Conversor de Divisas\n",
        "Realizar un programa que dada una cantidad de dinero en dolares, la convierta a pesos  [Tasa Dolar](https://www.banrep.gov.co/es/estadisticas/trm)"
      ]
    },
    {
      "cell_type": "code",
      "metadata": {
        "id": "KLDCoPp0OByh",
        "colab": {
          "base_uri": "https://localhost:8080/"
        },
        "outputId": "3c574a8e-2c88-4e82-f273-739611aac10f"
      },
      "source": [
        "from IPython.core.display import publish_display_data\n",
        "# Calculo de Divisas\n",
        "d=1000\n",
        "p=d*4000.32\n",
        "print('$',d,'COP equivalen a $',p,'UDS')\n"
      ],
      "execution_count": 23,
      "outputs": [
        {
          "output_type": "stream",
          "name": "stdout",
          "text": [
            "$ 1000 COP equivalen a $ 4000320.0 UDS\n"
          ]
        }
      ]
    },
    {
      "cell_type": "markdown",
      "metadata": {
        "id": "ONXmRBA_OCIm"
      },
      "source": [
        "<details>\n",
        "<summary>Dale a la flecha si necesitas una pista</summary>\n",
        "<pre>\n",
        "<code>\n",
        "dolares = 500\n",
        "pesos = #Formula de conversión\n",
        "print() #escribe un mensaje con la respuesta\n",
        "<code>\n",
        "<pre>\n",
        "</details>"
      ]
    },
    {
      "cell_type": "markdown",
      "metadata": {
        "id": "4LvEwrjUZKTq"
      },
      "source": [
        "# Gordo, ¿Quien yo?\n",
        "El índice de masa corporal **(IMC)** es un método utilizado para estimar la cantidad de grasa corporal que tiene una persona, y determinar por tanto si el peso está dentro del rango normal, o por el contrario, se tiene sobrepeso o delgadez. tomado de este sitio [IMC](https://cuidateplus.marca.com/alimentacion/diccionario/indice-masa-corporal-imc.html)\n",
        "\n",
        "Para no herir susceptibilidades, solo calcularemos el IMC y no diremos nada del sobrepeso. La fórmula para calcular el IMC es la siguiente\n",
        "$$\\frac{peso(kg)}{{altura(mt)}^2}$$\n",
        "\n",
        "## !Hagamos el programa!"
      ]
    },
    {
      "cell_type": "code",
      "metadata": {
        "id": "4kDsPZUcZQJI",
        "colab": {
          "base_uri": "https://localhost:8080/"
        },
        "outputId": "6ae3d19a-44d6-47c7-f4d4-90605e7f34ba"
      },
      "source": [
        "# Calculo del IMC\n",
        "altura=1.75\n",
        "peso=85\n",
        "# Sigue el programa aqui\n",
        "IMC=peso/altura**2\n",
        "print('Su Índice de Masa Corporal es de',IMC,'. Para la mayoría de los adultos, un IMC ideal está en el rango de 18.5 a 24.9')"
      ],
      "execution_count": 29,
      "outputs": [
        {
          "output_type": "stream",
          "name": "stdout",
          "text": [
            "Su Índice de Masa Corporal es de 27.755102040816325 . Para la mayoría de los adultos, un IMC ideal está en el rango de 18.5 a 24.9\n"
          ]
        }
      ]
    },
    {
      "cell_type": "markdown",
      "metadata": {
        "id": "BDnGTPysZWnC"
      },
      "source": [
        "<details>\n",
        "<summary>Dale a la flecha si necesitas una pista</summary>\n",
        "<pre>\n",
        "<code>\n",
        "altura=1.75\n",
        "peso=85\n",
        "imc=# completa la fórmula\n",
        "print() #escribe un mensaje con todos los datos, peso, altura e imc\n",
        "<code><pre>\n",
        "<code>\n",
        "<pre>\n",
        "</details>"
      ]
    },
    {
      "cell_type": "markdown",
      "metadata": {
        "id": "Y9CX4EM-Znr0"
      },
      "source": [
        "---\n",
        "\n",
        "FINAL DEL LABORATORIO\n",
        "\n",
        "---\n",
        "\n"
      ]
    }
  ]
}