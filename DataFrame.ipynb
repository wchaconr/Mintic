{
  "nbformat": 4,
  "nbformat_minor": 0,
  "metadata": {
    "colab": {
      "name": "DataFrame.ipynb",
      "provenance": [],
      "collapsed_sections": [
        "EX6tVMBnjvUb"
      ],
      "include_colab_link": true
    },
    "kernelspec": {
      "name": "python3",
      "display_name": "Python 3"
    },
    "language_info": {
      "name": "python"
    }
  },
  "cells": [
    {
      "cell_type": "markdown",
      "metadata": {
        "id": "view-in-github",
        "colab_type": "text"
      },
      "source": [
        "<a href=\"https://colab.research.google.com/github/wchaconr/Mintic/blob/main/DataFrame.ipynb\" target=\"_parent\"><img src=\"https://colab.research.google.com/assets/colab-badge.svg\" alt=\"Open In Colab\"/></a>"
      ]
    },
    {
      "cell_type": "markdown",
      "metadata": {
        "id": "EX6tVMBnjvUb"
      },
      "source": [
        "# Laboratorio 7.1\n",
        "Elaborado por Oscar Franco-Bedoya\n",
        "\n",
        "Proyecto Mision TIC 2022\n",
        "\n",
        "# Objetivo\n",
        "En este laboratorio realizaremos los ejercicios sobre dataframes vistos en el video.\n",
        "\n",
        " # Creación de dataframes\n",
        "La forma más sencilla de crear un dataframe es desde un diccionario."
      ]
    },
    {
      "cell_type": "code",
      "metadata": {
        "colab": {
          "base_uri": "https://localhost:8080/"
        },
        "id": "0QG0Ln7fCRrg",
        "outputId": "380b38ec-fdf6-42ba-e1c8-7cc044930a59"
      },
      "source": [
        "import pandas as pd\n",
        "\n",
        "datos = {\n",
        "  \"alimentos\": [\"Manzana\", \"Piña\", \"Pera\",\"Arándano\",\"Fresa\"],\n",
        "  \"calorias\": [52, 55, 55,35,32]\n",
        "}\n",
        "\n",
        "# Se \"cargan\" en un Dataframe\n",
        "df = pd.DataFrame(datos)\n",
        "\n",
        "print(df) \n"
      ],
      "execution_count": null,
      "outputs": [
        {
          "output_type": "stream",
          "text": [
            "  alimentos  calorias\n",
            "0   Manzana        52\n",
            "1      Piña        55\n",
            "2      Pera        55\n",
            "3  Arándano        35\n",
            "4     Fresa        32\n"
          ],
          "name": "stdout"
        }
      ]
    },
    {
      "cell_type": "code",
      "metadata": {
        "colab": {
          "base_uri": "https://localhost:8080/"
        },
        "id": "NBTVPILdGG1L",
        "outputId": "762ccd40-e1fc-4ecf-e121-06c2ae84ca1e"
      },
      "source": [
        "# Lista de columnas del dataframe\n",
        "df.columns"
      ],
      "execution_count": null,
      "outputs": [
        {
          "output_type": "execute_result",
          "data": {
            "text/plain": [
              "Index(['alimentos', 'calorias'], dtype='object')"
            ]
          },
          "metadata": {
            "tags": []
          },
          "execution_count": 4
        }
      ]
    },
    {
      "cell_type": "code",
      "metadata": {
        "colab": {
          "base_uri": "https://localhost:8080/"
        },
        "id": "GK9aJwomGom0",
        "outputId": "5ec9005e-db7e-413c-9c39-57ef73449a3b"
      },
      "source": [
        "# obtener los dos primeros elementos del dataframe\n",
        "print(df.head(2))"
      ],
      "execution_count": null,
      "outputs": [
        {
          "output_type": "stream",
          "text": [
            "  alimentos  calorias\n",
            "0   Manzana        52\n",
            "1      Piña        55\n"
          ],
          "name": "stdout"
        }
      ]
    },
    {
      "cell_type": "code",
      "metadata": {
        "colab": {
          "base_uri": "https://localhost:8080/",
          "height": 112
        },
        "id": "7Fysa4SdJMNd",
        "outputId": "332d1d7a-9868-402c-c302-6b5f41c14ebf"
      },
      "source": [
        "# obtener los dos últimos elementos del dataframe\n",
        "df.tail(2)"
      ],
      "execution_count": null,
      "outputs": [
        {
          "output_type": "execute_result",
          "data": {
            "text/html": [
              "<div>\n",
              "<style scoped>\n",
              "    .dataframe tbody tr th:only-of-type {\n",
              "        vertical-align: middle;\n",
              "    }\n",
              "\n",
              "    .dataframe tbody tr th {\n",
              "        vertical-align: top;\n",
              "    }\n",
              "\n",
              "    .dataframe thead th {\n",
              "        text-align: right;\n",
              "    }\n",
              "</style>\n",
              "<table border=\"1\" class=\"dataframe\">\n",
              "  <thead>\n",
              "    <tr style=\"text-align: right;\">\n",
              "      <th></th>\n",
              "      <th>alimentos</th>\n",
              "      <th>calorias</th>\n",
              "    </tr>\n",
              "  </thead>\n",
              "  <tbody>\n",
              "    <tr>\n",
              "      <th>3</th>\n",
              "      <td>Arándano</td>\n",
              "      <td>35</td>\n",
              "    </tr>\n",
              "    <tr>\n",
              "      <th>4</th>\n",
              "      <td>Fresa</td>\n",
              "      <td>32</td>\n",
              "    </tr>\n",
              "  </tbody>\n",
              "</table>\n",
              "</div>"
            ],
            "text/plain": [
              "  alimentos  calorias\n",
              "3  Arándano        35\n",
              "4     Fresa        32"
            ]
          },
          "metadata": {
            "tags": []
          },
          "execution_count": 12
        }
      ]
    },
    {
      "cell_type": "code",
      "metadata": {
        "colab": {
          "base_uri": "https://localhost:8080/"
        },
        "id": "fGDqItybKwmJ",
        "outputId": "709e05f4-7183-4ebc-8c61-ed52682b9142"
      },
      "source": [
        "# I nformación técnica del dataframe\n",
        "df.info()"
      ],
      "execution_count": null,
      "outputs": [
        {
          "output_type": "stream",
          "text": [
            "<class 'pandas.core.frame.DataFrame'>\n",
            "RangeIndex: 5 entries, 0 to 4\n",
            "Data columns (total 2 columns):\n",
            " #   Column     Non-Null Count  Dtype \n",
            "---  ------     --------------  ----- \n",
            " 0   alimentos  5 non-null      object\n",
            " 1   calorias   5 non-null      int64 \n",
            "dtypes: int64(1), object(1)\n",
            "memory usage: 208.0+ bytes\n"
          ],
          "name": "stdout"
        }
      ]
    },
    {
      "cell_type": "code",
      "metadata": {
        "colab": {
          "base_uri": "https://localhost:8080/",
          "height": 300
        },
        "id": "j8HQMw7CMxEX",
        "outputId": "8265cf37-d85e-490d-c2f3-e0cf4e3b5a1d"
      },
      "source": [
        "# calculo de estadísticas\n",
        "df.describe()"
      ],
      "execution_count": null,
      "outputs": [
        {
          "output_type": "execute_result",
          "data": {
            "text/html": [
              "<div>\n",
              "<style scoped>\n",
              "    .dataframe tbody tr th:only-of-type {\n",
              "        vertical-align: middle;\n",
              "    }\n",
              "\n",
              "    .dataframe tbody tr th {\n",
              "        vertical-align: top;\n",
              "    }\n",
              "\n",
              "    .dataframe thead th {\n",
              "        text-align: right;\n",
              "    }\n",
              "</style>\n",
              "<table border=\"1\" class=\"dataframe\">\n",
              "  <thead>\n",
              "    <tr style=\"text-align: right;\">\n",
              "      <th></th>\n",
              "      <th>calorias</th>\n",
              "    </tr>\n",
              "  </thead>\n",
              "  <tbody>\n",
              "    <tr>\n",
              "      <th>count</th>\n",
              "      <td>5.000000</td>\n",
              "    </tr>\n",
              "    <tr>\n",
              "      <th>mean</th>\n",
              "      <td>45.800000</td>\n",
              "    </tr>\n",
              "    <tr>\n",
              "      <th>std</th>\n",
              "      <td>11.344602</td>\n",
              "    </tr>\n",
              "    <tr>\n",
              "      <th>min</th>\n",
              "      <td>32.000000</td>\n",
              "    </tr>\n",
              "    <tr>\n",
              "      <th>25%</th>\n",
              "      <td>35.000000</td>\n",
              "    </tr>\n",
              "    <tr>\n",
              "      <th>50%</th>\n",
              "      <td>52.000000</td>\n",
              "    </tr>\n",
              "    <tr>\n",
              "      <th>75%</th>\n",
              "      <td>55.000000</td>\n",
              "    </tr>\n",
              "    <tr>\n",
              "      <th>max</th>\n",
              "      <td>55.000000</td>\n",
              "    </tr>\n",
              "  </tbody>\n",
              "</table>\n",
              "</div>"
            ],
            "text/plain": [
              "        calorias\n",
              "count   5.000000\n",
              "mean   45.800000\n",
              "std    11.344602\n",
              "min    32.000000\n",
              "25%    35.000000\n",
              "50%    52.000000\n",
              "75%    55.000000\n",
              "max    55.000000"
            ]
          },
          "metadata": {
            "tags": []
          },
          "execution_count": 14
        }
      ]
    },
    {
      "cell_type": "code",
      "metadata": {
        "colab": {
          "base_uri": "https://localhost:8080/"
        },
        "id": "EJywl4LFOZcU",
        "outputId": "19d82b1d-2dbd-4494-f381-cffae3d52f44"
      },
      "source": [
        "# Obtiene la lista de valores de una columna \n",
        "df[\"alimentos\"]"
      ],
      "execution_count": null,
      "outputs": [
        {
          "output_type": "execute_result",
          "data": {
            "text/plain": [
              "0     Manzana\n",
              "1        Piña\n",
              "2        Pera\n",
              "3    Arándano\n",
              "4       Fresa\n",
              "Name: alimentos, dtype: object"
            ]
          },
          "metadata": {
            "tags": []
          },
          "execution_count": 15
        }
      ]
    },
    {
      "cell_type": "code",
      "metadata": {
        "colab": {
          "base_uri": "https://localhost:8080/"
        },
        "id": "dFgDdJwVO17G",
        "outputId": "a3635386-81e4-417e-878b-9693bef5f592"
      },
      "source": [
        "# convierte los valores de la columna a una lista\n",
        "list(df[\"alimentos\"])"
      ],
      "execution_count": null,
      "outputs": [
        {
          "output_type": "execute_result",
          "data": {
            "text/plain": [
              "['Manzana', 'Piña', 'Pera', 'Arándano', 'Fresa']"
            ]
          },
          "metadata": {
            "tags": []
          },
          "execution_count": 16
        }
      ]
    },
    {
      "cell_type": "code",
      "metadata": {
        "colab": {
          "base_uri": "https://localhost:8080/"
        },
        "id": "hYi2HeOtPZPO",
        "outputId": "c971acfa-3fc0-48da-cd8f-20876ab976f1"
      },
      "source": [
        "# valor maximo en el dataframe\n",
        "df.max()"
      ],
      "execution_count": null,
      "outputs": [
        {
          "output_type": "execute_result",
          "data": {
            "text/plain": [
              "alimentos    Piña\n",
              "calorias       55\n",
              "dtype: object"
            ]
          },
          "metadata": {
            "tags": []
          },
          "execution_count": 17
        }
      ]
    },
    {
      "cell_type": "code",
      "metadata": {
        "colab": {
          "base_uri": "https://localhost:8080/"
        },
        "id": "ERfM_OAVP4zW",
        "outputId": "9d793f60-a822-439b-8316-eea0d156f3fb"
      },
      "source": [
        "# elemento en la posición 0 del dataframe\n",
        "df.loc[0]"
      ],
      "execution_count": null,
      "outputs": [
        {
          "output_type": "execute_result",
          "data": {
            "text/plain": [
              "alimentos    Manzana\n",
              "calorias          52\n",
              "Name: 0, dtype: object"
            ]
          },
          "metadata": {
            "tags": []
          },
          "execution_count": 21
        }
      ]
    },
    {
      "cell_type": "markdown",
      "metadata": {
        "id": "2QlE6dKMl4FB"
      },
      "source": [
        "# otro ejemplo\n",
        "En este ejemplo tenemos un dataframe con 4 columnas."
      ]
    },
    {
      "cell_type": "code",
      "metadata": {
        "colab": {
          "base_uri": "https://localhost:8080/",
          "height": 237
        },
        "id": "sdsiPMbjZXbs",
        "outputId": "13af6e1f-62dd-4168-df78-066357a6c174"
      },
      "source": [
        "datos_productos={\n",
        "    'category': ['Cleaning', 'Cleaning', 'Entertainment', 'Entertainment', 'Tech', 'Tech'],\n",
        "    'store': ['Walmart', 'Dia', 'Walmart', 'Fnac', 'Dia','Walmart'],\n",
        "    'price':[11.42, 23.50, 19.99, 15.95, 55.75, 111.55],\n",
        "    'testscore': [4, 3, 5, 7, 5, 8]}\n",
        "\n",
        "dfP = pd.DataFrame(datos_productos)\n",
        "dfP"
      ],
      "execution_count": null,
      "outputs": [
        {
          "output_type": "execute_result",
          "data": {
            "text/html": [
              "<div>\n",
              "<style scoped>\n",
              "    .dataframe tbody tr th:only-of-type {\n",
              "        vertical-align: middle;\n",
              "    }\n",
              "\n",
              "    .dataframe tbody tr th {\n",
              "        vertical-align: top;\n",
              "    }\n",
              "\n",
              "    .dataframe thead th {\n",
              "        text-align: right;\n",
              "    }\n",
              "</style>\n",
              "<table border=\"1\" class=\"dataframe\">\n",
              "  <thead>\n",
              "    <tr style=\"text-align: right;\">\n",
              "      <th></th>\n",
              "      <th>category</th>\n",
              "      <th>store</th>\n",
              "      <th>price</th>\n",
              "      <th>testscore</th>\n",
              "    </tr>\n",
              "  </thead>\n",
              "  <tbody>\n",
              "    <tr>\n",
              "      <th>0</th>\n",
              "      <td>Cleaning</td>\n",
              "      <td>Walmart</td>\n",
              "      <td>11.42</td>\n",
              "      <td>4</td>\n",
              "    </tr>\n",
              "    <tr>\n",
              "      <th>1</th>\n",
              "      <td>Cleaning</td>\n",
              "      <td>Dia</td>\n",
              "      <td>23.50</td>\n",
              "      <td>3</td>\n",
              "    </tr>\n",
              "    <tr>\n",
              "      <th>2</th>\n",
              "      <td>Entertainment</td>\n",
              "      <td>Walmart</td>\n",
              "      <td>19.99</td>\n",
              "      <td>5</td>\n",
              "    </tr>\n",
              "    <tr>\n",
              "      <th>3</th>\n",
              "      <td>Entertainment</td>\n",
              "      <td>Fnac</td>\n",
              "      <td>15.95</td>\n",
              "      <td>7</td>\n",
              "    </tr>\n",
              "    <tr>\n",
              "      <th>4</th>\n",
              "      <td>Tech</td>\n",
              "      <td>Dia</td>\n",
              "      <td>55.75</td>\n",
              "      <td>5</td>\n",
              "    </tr>\n",
              "    <tr>\n",
              "      <th>5</th>\n",
              "      <td>Tech</td>\n",
              "      <td>Walmart</td>\n",
              "      <td>111.55</td>\n",
              "      <td>8</td>\n",
              "    </tr>\n",
              "  </tbody>\n",
              "</table>\n",
              "</div>"
            ],
            "text/plain": [
              "        category    store   price  testscore\n",
              "0       Cleaning  Walmart   11.42          4\n",
              "1       Cleaning      Dia   23.50          3\n",
              "2  Entertainment  Walmart   19.99          5\n",
              "3  Entertainment     Fnac   15.95          7\n",
              "4           Tech      Dia   55.75          5\n",
              "5           Tech  Walmart  111.55          8"
            ]
          },
          "metadata": {
            "tags": []
          },
          "execution_count": 23
        }
      ]
    },
    {
      "cell_type": "code",
      "metadata": {
        "colab": {
          "base_uri": "https://localhost:8080/",
          "height": 237
        },
        "id": "fGvlNvVceQzR",
        "outputId": "3f4f1d9b-929d-4e80-990c-b1daaa090ec7"
      },
      "source": [
        "# Ordena los valores del dataframe por una columna  \n",
        "dfP.sort_values(\"price\")"
      ],
      "execution_count": null,
      "outputs": [
        {
          "output_type": "execute_result",
          "data": {
            "text/html": [
              "<div>\n",
              "<style scoped>\n",
              "    .dataframe tbody tr th:only-of-type {\n",
              "        vertical-align: middle;\n",
              "    }\n",
              "\n",
              "    .dataframe tbody tr th {\n",
              "        vertical-align: top;\n",
              "    }\n",
              "\n",
              "    .dataframe thead th {\n",
              "        text-align: right;\n",
              "    }\n",
              "</style>\n",
              "<table border=\"1\" class=\"dataframe\">\n",
              "  <thead>\n",
              "    <tr style=\"text-align: right;\">\n",
              "      <th></th>\n",
              "      <th>category</th>\n",
              "      <th>store</th>\n",
              "      <th>price</th>\n",
              "      <th>testscore</th>\n",
              "    </tr>\n",
              "  </thead>\n",
              "  <tbody>\n",
              "    <tr>\n",
              "      <th>0</th>\n",
              "      <td>Cleaning</td>\n",
              "      <td>Walmart</td>\n",
              "      <td>11.42</td>\n",
              "      <td>4</td>\n",
              "    </tr>\n",
              "    <tr>\n",
              "      <th>3</th>\n",
              "      <td>Entertainment</td>\n",
              "      <td>Fnac</td>\n",
              "      <td>15.95</td>\n",
              "      <td>7</td>\n",
              "    </tr>\n",
              "    <tr>\n",
              "      <th>2</th>\n",
              "      <td>Entertainment</td>\n",
              "      <td>Walmart</td>\n",
              "      <td>19.99</td>\n",
              "      <td>5</td>\n",
              "    </tr>\n",
              "    <tr>\n",
              "      <th>1</th>\n",
              "      <td>Cleaning</td>\n",
              "      <td>Dia</td>\n",
              "      <td>23.50</td>\n",
              "      <td>3</td>\n",
              "    </tr>\n",
              "    <tr>\n",
              "      <th>4</th>\n",
              "      <td>Tech</td>\n",
              "      <td>Dia</td>\n",
              "      <td>55.75</td>\n",
              "      <td>5</td>\n",
              "    </tr>\n",
              "    <tr>\n",
              "      <th>5</th>\n",
              "      <td>Tech</td>\n",
              "      <td>Walmart</td>\n",
              "      <td>111.55</td>\n",
              "      <td>8</td>\n",
              "    </tr>\n",
              "  </tbody>\n",
              "</table>\n",
              "</div>"
            ],
            "text/plain": [
              "        category    store   price  testscore\n",
              "0       Cleaning  Walmart   11.42          4\n",
              "3  Entertainment     Fnac   15.95          7\n",
              "2  Entertainment  Walmart   19.99          5\n",
              "1       Cleaning      Dia   23.50          3\n",
              "4           Tech      Dia   55.75          5\n",
              "5           Tech  Walmart  111.55          8"
            ]
          },
          "metadata": {
            "tags": []
          },
          "execution_count": 25
        }
      ]
    },
    {
      "cell_type": "code",
      "metadata": {
        "colab": {
          "base_uri": "https://localhost:8080/",
          "height": 143
        },
        "id": "z9JQpw06ftuX",
        "outputId": "011c88dd-75ab-4c90-ec89-6eaf2d1043f8"
      },
      "source": [
        "# Muestra el uso de slicing en dataframes \n",
        "dfP.iloc[1:4]"
      ],
      "execution_count": null,
      "outputs": [
        {
          "output_type": "execute_result",
          "data": {
            "text/html": [
              "<div>\n",
              "<style scoped>\n",
              "    .dataframe tbody tr th:only-of-type {\n",
              "        vertical-align: middle;\n",
              "    }\n",
              "\n",
              "    .dataframe tbody tr th {\n",
              "        vertical-align: top;\n",
              "    }\n",
              "\n",
              "    .dataframe thead th {\n",
              "        text-align: right;\n",
              "    }\n",
              "</style>\n",
              "<table border=\"1\" class=\"dataframe\">\n",
              "  <thead>\n",
              "    <tr style=\"text-align: right;\">\n",
              "      <th></th>\n",
              "      <th>category</th>\n",
              "      <th>store</th>\n",
              "      <th>price</th>\n",
              "      <th>testscore</th>\n",
              "    </tr>\n",
              "  </thead>\n",
              "  <tbody>\n",
              "    <tr>\n",
              "      <th>1</th>\n",
              "      <td>Cleaning</td>\n",
              "      <td>Dia</td>\n",
              "      <td>23.50</td>\n",
              "      <td>3</td>\n",
              "    </tr>\n",
              "    <tr>\n",
              "      <th>2</th>\n",
              "      <td>Entertainment</td>\n",
              "      <td>Walmart</td>\n",
              "      <td>19.99</td>\n",
              "      <td>5</td>\n",
              "    </tr>\n",
              "    <tr>\n",
              "      <th>3</th>\n",
              "      <td>Entertainment</td>\n",
              "      <td>Fnac</td>\n",
              "      <td>15.95</td>\n",
              "      <td>7</td>\n",
              "    </tr>\n",
              "  </tbody>\n",
              "</table>\n",
              "</div>"
            ],
            "text/plain": [
              "        category    store  price  testscore\n",
              "1       Cleaning      Dia  23.50          3\n",
              "2  Entertainment  Walmart  19.99          5\n",
              "3  Entertainment     Fnac  15.95          7"
            ]
          },
          "metadata": {
            "tags": []
          },
          "execution_count": 28
        }
      ]
    },
    {
      "cell_type": "markdown",
      "metadata": {
        "id": "O9bg33NBm8YO"
      },
      "source": [
        "# Seleccionando elementos del dataframe con expresiones lógicas"
      ]
    },
    {
      "cell_type": "code",
      "metadata": {
        "colab": {
          "base_uri": "https://localhost:8080/"
        },
        "id": "z5tU1QiJg7mB",
        "outputId": "44ddb049-6919-427f-b089-a62dc94fe6c0"
      },
      "source": [
        "\n",
        "dfP[\"category\"]==\"Entertainment\""
      ],
      "execution_count": null,
      "outputs": [
        {
          "output_type": "execute_result",
          "data": {
            "text/plain": [
              "0    False\n",
              "1    False\n",
              "2     True\n",
              "3     True\n",
              "4    False\n",
              "5    False\n",
              "Name: category, dtype: bool"
            ]
          },
          "metadata": {
            "tags": []
          },
          "execution_count": 30
        }
      ]
    },
    {
      "cell_type": "code",
      "metadata": {
        "colab": {
          "base_uri": "https://localhost:8080/",
          "height": 112
        },
        "id": "p0s42SZQhtxJ",
        "outputId": "2f5831c1-7b55-4f3b-9201-24d661031e7a"
      },
      "source": [
        "dfP[dfP[\"category\"]==\"Entertainment\"]"
      ],
      "execution_count": null,
      "outputs": [
        {
          "output_type": "execute_result",
          "data": {
            "text/html": [
              "<div>\n",
              "<style scoped>\n",
              "    .dataframe tbody tr th:only-of-type {\n",
              "        vertical-align: middle;\n",
              "    }\n",
              "\n",
              "    .dataframe tbody tr th {\n",
              "        vertical-align: top;\n",
              "    }\n",
              "\n",
              "    .dataframe thead th {\n",
              "        text-align: right;\n",
              "    }\n",
              "</style>\n",
              "<table border=\"1\" class=\"dataframe\">\n",
              "  <thead>\n",
              "    <tr style=\"text-align: right;\">\n",
              "      <th></th>\n",
              "      <th>category</th>\n",
              "      <th>store</th>\n",
              "      <th>price</th>\n",
              "      <th>testscore</th>\n",
              "    </tr>\n",
              "  </thead>\n",
              "  <tbody>\n",
              "    <tr>\n",
              "      <th>2</th>\n",
              "      <td>Entertainment</td>\n",
              "      <td>Walmart</td>\n",
              "      <td>19.99</td>\n",
              "      <td>5</td>\n",
              "    </tr>\n",
              "    <tr>\n",
              "      <th>3</th>\n",
              "      <td>Entertainment</td>\n",
              "      <td>Fnac</td>\n",
              "      <td>15.95</td>\n",
              "      <td>7</td>\n",
              "    </tr>\n",
              "  </tbody>\n",
              "</table>\n",
              "</div>"
            ],
            "text/plain": [
              "        category    store  price  testscore\n",
              "2  Entertainment  Walmart  19.99          5\n",
              "3  Entertainment     Fnac  15.95          7"
            ]
          },
          "metadata": {
            "tags": []
          },
          "execution_count": 31
        }
      ]
    },
    {
      "cell_type": "code",
      "metadata": {
        "colab": {
          "base_uri": "https://localhost:8080/",
          "height": 143
        },
        "id": "IVlgfNW_iYyb",
        "outputId": "be145ce8-53da-499c-9109-8bf3555ee47a"
      },
      "source": [
        "dfP[dfP[\"price\"]>=20]"
      ],
      "execution_count": null,
      "outputs": [
        {
          "output_type": "execute_result",
          "data": {
            "text/html": [
              "<div>\n",
              "<style scoped>\n",
              "    .dataframe tbody tr th:only-of-type {\n",
              "        vertical-align: middle;\n",
              "    }\n",
              "\n",
              "    .dataframe tbody tr th {\n",
              "        vertical-align: top;\n",
              "    }\n",
              "\n",
              "    .dataframe thead th {\n",
              "        text-align: right;\n",
              "    }\n",
              "</style>\n",
              "<table border=\"1\" class=\"dataframe\">\n",
              "  <thead>\n",
              "    <tr style=\"text-align: right;\">\n",
              "      <th></th>\n",
              "      <th>category</th>\n",
              "      <th>store</th>\n",
              "      <th>price</th>\n",
              "      <th>testscore</th>\n",
              "    </tr>\n",
              "  </thead>\n",
              "  <tbody>\n",
              "    <tr>\n",
              "      <th>1</th>\n",
              "      <td>Cleaning</td>\n",
              "      <td>Dia</td>\n",
              "      <td>23.50</td>\n",
              "      <td>3</td>\n",
              "    </tr>\n",
              "    <tr>\n",
              "      <th>4</th>\n",
              "      <td>Tech</td>\n",
              "      <td>Dia</td>\n",
              "      <td>55.75</td>\n",
              "      <td>5</td>\n",
              "    </tr>\n",
              "    <tr>\n",
              "      <th>5</th>\n",
              "      <td>Tech</td>\n",
              "      <td>Walmart</td>\n",
              "      <td>111.55</td>\n",
              "      <td>8</td>\n",
              "    </tr>\n",
              "  </tbody>\n",
              "</table>\n",
              "</div>"
            ],
            "text/plain": [
              "   category    store   price  testscore\n",
              "1  Cleaning      Dia   23.50          3\n",
              "4      Tech      Dia   55.75          5\n",
              "5      Tech  Walmart  111.55          8"
            ]
          },
          "metadata": {
            "tags": []
          },
          "execution_count": 34
        }
      ]
    },
    {
      "cell_type": "markdown",
      "metadata": {
        "id": "1kKIOwRMnJu7"
      },
      "source": [
        "---\n",
        "FIN DEL LABORATORIO\n",
        "---\n",
        "\n"
      ]
    }
  ]
}