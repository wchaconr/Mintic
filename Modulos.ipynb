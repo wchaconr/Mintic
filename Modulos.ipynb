{
  "nbformat": 4,
  "nbformat_minor": 0,
  "metadata": {
    "colab": {
      "name": "Modulos.ipynb",
      "provenance": [],
      "collapsed_sections": [],
      "include_colab_link": true
    },
    "kernelspec": {
      "name": "python3",
      "display_name": "Python 3"
    },
    "language_info": {
      "name": "python"
    }
  },
  "cells": [
    {
      "cell_type": "markdown",
      "metadata": {
        "id": "view-in-github",
        "colab_type": "text"
      },
      "source": [
        "<a href=\"https://colab.research.google.com/github/wchaconr/Mintic/blob/main/Modulos.ipynb\" target=\"_parent\"><img src=\"https://colab.research.google.com/assets/colab-badge.svg\" alt=\"Open In Colab\"/></a>"
      ]
    },
    {
      "cell_type": "markdown",
      "metadata": {
        "id": "biub9nUgZOKu"
      },
      "source": [
        "# Laboratorio 3.1\n",
        "\n",
        "*Elaborado por Oscar Franco-Bedoya*\n",
        "\n",
        "*Proyecto Misión TIC 2022*\n",
        "\n",
        "\n",
        "## Objetivo\n",
        "Aplicar el concepto de módulos mediante la implementación de programas que utilizan librerias de Python como math y random.\n",
        "\n",
        "## La calculadora de Trigo____\n",
        "### Contexto\n",
        "El profesor de matemáticas del colegio del colegio del barrio ha decidido desarrollar un programa en Python que realiza las operaciones trigonométricas y así,  ayudar a sus estudiantes olvidadizos que olvidan traer su Calculadora científica para la clase:\n",
        "\n",
        "Las operaciones que desea realizar son\n",
        "-  Seno(a)\n",
        "-  Coseno(a)\n",
        "-  Tangente(a)\n",
        "-  Cotangente(a)\n",
        "-  Arcoseno(a)\n",
        "-  Arcocoseno(x)\n",
        "-  Arcotangente(x)\n",
        "\n",
        "x es un angulo en grados\n",
        "\n",
        "Como el profesor sabe de funciones en programación y entiende la importancia de la programación modular, ha decidido implementar la aplicación utilizando funciones\n",
        "\n",
        "**NOTA IMPORTANTE** \n",
        "Las operaciones trigonométricas en Python funcionan con ángulos en radianes no en grados!!!! Por lo tanto deben convertirse los angulos antes de hacer estos cálculos."
      ]
    },
    {
      "cell_type": "code",
      "metadata": {
        "id": "dWT7C-5kcxkp",
        "colab": {
          "base_uri": "https://localhost:8080/"
        },
        "outputId": "46183e8f-e2fc-4870-eec6-ab9c5a807e65"
      },
      "source": [
        "\"\"\" Laboratorio 3.1 La calculadora de Trigo \n",
        "    Oscar Franco-Bedoya\n",
        "    Mayo 10-2021 \"\"\"\n",
        "\n",
        "# Importar modulos/librerias\n",
        "import math as m\n",
        "\n",
        "# Definición de Funciones (Dividir)\n",
        "def calcular_seno(angulo_grados):\n",
        "  \"\"\" \n",
        "  Parameters\n",
        "  ----------\n",
        "  angulo_grados:float\n",
        "     un numero entre 0  y 360 que representa un ángulo en grados\n",
        "  -------\n",
        "  Return\n",
        "  seno:float\n",
        "    el seno del angulo_grados   \n",
        "  \"\"\"  \n",
        "  seno= m.sin(m.radians(angulo_grados))\n",
        "  return seno\n",
        "\n",
        "def calcular_coseno(angulo_grados):\n",
        "  \"\"\" \n",
        "  Parameters\n",
        "  ----------\n",
        "  angulo_grados:float\n",
        "     un numero entre 0  y 360 que representa un ángulo en grados\n",
        "  -------\n",
        "  Return\n",
        "  seno:float\n",
        "    el coseno del angulo_grados   \n",
        "  \"\"\"  \n",
        "  coseno= m.cos(m.radians(angulo_grados))\n",
        "  return coseno\n",
        "\n",
        "\n",
        "\n",
        "#TODO: Ayudar al profe con las demás funciones\n",
        "\"\"\"\n",
        "-  calcular_coseno(angulo_grados)\n",
        "-  calcular_tangente(angulo_grados)\n",
        "-  calcular_cotangente(angulo_grados)\n",
        "-  calcular_arcoseno(angulo_grados)\n",
        "-  calcular_arcocoseno(angulo_grados)\n",
        "-  calcular_arcotangente(angulo_grados)\n",
        "\"\"\"\n",
        "\n",
        "#======================================================================\n",
        "#   Algoritmo principal Punto de entrada a la aplicación (Conquistar)\n",
        "# =====================================================================\n",
        "\n",
        "#lectura angulo\n",
        "angulo_g=float(input(\"Ingresa un ángulo entre 0 y 360 \"))\n",
        "r_seno=calcular_seno(angulo_g)\n",
        "print(\"Seno(\",angulo_g,\")=\",r_seno)\n",
        "\n",
        "r_coseno=calcular_coseno(angulo_g)\n",
        "print(\"Coseno(\",angulo_g,\")=\",r_coseno)"
      ],
      "execution_count": null,
      "outputs": [
        {
          "output_type": "stream",
          "text": [
            "Ingresa un ángulo entre 0 y 360 50\n",
            "Seno( 50.0 )= 0.766044443118978\n",
            "Coseno( 50.0 )= 0.6427876096865394\n"
          ],
          "name": "stdout"
        }
      ]
    },
    {
      "cell_type": "markdown",
      "metadata": {
        "id": "C5-azyvVjiuC"
      },
      "source": [
        "## La raiz 4\n",
        "Nos han pedido un pequeño y sencillo programa que calcule la raíz cuarta de un número. No se diga más, ¡a escribirlo en la siguiente celda de código!\n",
        "\n",
        "<details>\n",
        "<summary>Dale a la flecha si necesitas una pista</summary>\n",
        "<pre><code>\n",
        "Afortunadamente tenemos la lista de funciones de math\n",
        "<a href=\"https://docs.python.org/3/library/math.html\">Modulo math</a>\n",
        "Solo sera buscar la funcion respectiva ¿O no? ¡Parece mas dificil!\n",
        "<code><pre>\n",
        "</details>\n",
        "\n",
        "<details>\n",
        "<summary>Dale a la flecha si necesitas UNA AYUDA ADICIONAL</summary>\n",
        "<pre><code>\n",
        "Por ahi dicen que la raiz cuarta es la raiz cuadrada de la raiz cuadrada :-)\n",
        "<code><pre>\n",
        "</details>"
      ]
    },
    {
      "cell_type": "code",
      "metadata": {
        "id": "MhlfmYAugTHo",
        "outputId": "d2194cf0-37f1-4685-ccc8-ab369930b4ec",
        "colab": {
          "base_uri": "https://localhost:8080/"
        }
      },
      "source": [
        "import math as m\n",
        "\n",
        "valor=float(input(\"Ingresa un numero \"))\n",
        "raiz_cuarta=m.sqrt(m.sqrt(valor)) #TODO: completar el código\n",
        "print(raiz_cuarta)\n"
      ],
      "execution_count": 6,
      "outputs": [
        {
          "output_type": "stream",
          "name": "stdout",
          "text": [
            "Ingresa un numero 16\n",
            "2.0\n"
          ]
        }
      ]
    },
    {
      "cell_type": "markdown",
      "metadata": {
        "id": "wG5zN6mtmie5"
      },
      "source": [
        "## La raiz n\n",
        "Debido al éxito arrollador del programa que calcula la raíz cuadrada y la cuarta, nos han pedido un programa que calcule cualquier raíz n (n número entero) para un numero dado.\n",
        "\n",
        "<details>\n",
        "<summary>Dale a la flecha si necesitas una pista</summary>\n",
        "<pre><code>\n",
        "La raiz n_ésima de X es igual a X elevado a la 1/n \n",
        "<code><pre>\n",
        "</details>"
      ]
    },
    {
      "cell_type": "code",
      "metadata": {
        "id": "GeeWnltUndFN",
        "colab": {
          "base_uri": "https://localhost:8080/"
        },
        "outputId": "8f2dd0b3-fd90-4c32-bcd7-62868ca5950d"
      },
      "source": [
        "import math as m\n",
        "\n",
        "valor=float(input(\"Ingresa un numero \"))\n",
        "raiz_n=  m.sqrt(valor)\n",
        "print(\"La raiz cuadrada de\", valor, \"es\",raiz_n )"
      ],
      "execution_count": null,
      "outputs": [
        {
          "output_type": "stream",
          "text": [
            "Ingresa un numero 81\n",
            "La raiz cuadrada de 81.0 es 9.0\n"
          ],
          "name": "stdout"
        }
      ]
    },
    {
      "cell_type": "code",
      "metadata": {
        "colab": {
          "base_uri": "https://localhost:8080/"
        },
        "id": "xxzqIw6FVaNn",
        "outputId": "89675688-ba74-4209-f11a-b8ee41f5763c"
      },
      "source": [
        "import math as m\n",
        "\n",
        "valor=float(input(\"Ingresa un numero \"))\n",
        "raiz=int(input(\"Ingresa la raiz que quieres calcular \"))\n",
        "raiz_n=  valor**(1/raiz)\n",
        "print(\"La raiz cuadrada de\", raiz, \"es\",raiz_n )"
      ],
      "execution_count": null,
      "outputs": [
        {
          "output_type": "stream",
          "text": [
            "Ingresa un numero 27\n",
            "Ingresa la raiz que quieres calcular 3\n",
            "La raiz cuadrada de 3 es 3.0\n"
          ],
          "name": "stdout"
        }
      ]
    },
    {
      "cell_type": "markdown",
      "metadata": {
        "id": "4PRJiceFYp1l"
      },
      "source": [
        "## Juego de Dados\n",
        "Vamos a realizar una función que simula el lanzamiento de un dado de 6 caras. Para ello se debe utilizar un modulo de Python llamado [random.py](https://docs.python.org/3/library/random.html) Dale clic para ver sus funciones.\n",
        "\n",
        "  "
      ]
    },
    {
      "cell_type": "markdown",
      "source": [
        "<details>\n",
        "<summary>Dale a la flecha si necesitas una pista</summary>\n",
        "<pre><code>\n",
        "1) para importar un modulo se usa la palabra import seguida del  nombre del módulo\n",
        "2) la función que genera un numero aleatorio es random.randint(1, 6)\n",
        "3) Solo llama a la fución lanzar_dado()\n",
        "\n",
        "<code><pre>\n",
        "</details>"
      ],
      "metadata": {
        "id": "Sw6YLPl1MsEq"
      }
    },
    {
      "cell_type": "code",
      "metadata": {
        "id": "HCIyUc26ZRyQ",
        "colab": {
          "base_uri": "https://localhost:8080/"
        },
        "outputId": "f498d998-8b8f-4040-d62b-d04fd293415c"
      },
      "source": [
        "\"\"\" Laboratorio 3.1 Lanzamiento de dados \n",
        "    Oscar Franco-Bedoya\n",
        "    Mayo 10-2021 \"\"\"\n",
        "\n",
        "# Importar modulos/librerias\n",
        "import random as r\n",
        "# Definición de Funciones (Dividir)\n",
        "def lanzar_dado():\n",
        "  valor=r.randint(1,6)\n",
        "  return valor\n",
        "  \n",
        " #======================================================================\n",
        "#   Algoritmo principal Punto de entrada a la aplicación (Conquistar)\n",
        "# =====================================================================\n",
        "\n",
        "valor_dado=lanzar_dado()\n",
        "print(\"El dado quedo en\",valor_dado)"
      ],
      "execution_count": 7,
      "outputs": [
        {
          "output_type": "stream",
          "name": "stdout",
          "text": [
            "El dado quedo en 1\n"
          ]
        }
      ]
    },
    {
      "cell_type": "markdown",
      "metadata": {
        "id": "oaQy_yQQbOEY"
      },
      "source": [
        "## Dos dados\n",
        "Para hacer el juego mas interesante modifique el programa para que simule el lanzamiento de dos dados\n",
        "### NOTA\n",
        "No deben definirse mas funciones, solo modifique el programa principal \n",
        "\n",
        "<details>\n",
        "<summary>Dale a la flecha si necesitas una pista</summary>\n",
        "<pre><code>\n",
        "Recuerda que una función puede llamarse varias veces\n",
        "<code><pre>\n",
        "</details>"
      ]
    },
    {
      "cell_type": "code",
      "metadata": {
        "id": "lHjNpZvmXbFj"
      },
      "source": [
        ""
      ],
      "execution_count": null,
      "outputs": []
    },
    {
      "cell_type": "code",
      "metadata": {
        "id": "io_YkS6ddEp2",
        "colab": {
          "base_uri": "https://localhost:8080/"
        },
        "outputId": "ca5dfb8a-bc50-4f09-d880-e65ac46ff694"
      },
      "source": [
        "\"\"\" Laboratorio 3.1 Lanzamiento de DOS dados \n",
        "    Oscar Franco-Bedoya\n",
        "    Mayo 10-2021 \"\"\"\n",
        "\"\"\" Laboratorio 3.1 Lanzamiento de dados \n",
        "    Oscar Franco-Bedoya\n",
        "    Mayo 10-2021 \"\"\"\n",
        "\n",
        "# Importar modulos/librerias\n",
        "import random as r\n",
        "# Definición de Funciones (Dividir)\n",
        "def lanzar_dado():\n",
        "  valor=r.randint(1,6)\n",
        "  return valor\n",
        "  \n",
        "\n",
        " #======================================================================\n",
        "#   Algoritmo principal Punto de entrada a la aplicación (Conquistar)\n",
        "# =====================================================================\n",
        "\n",
        "valor_dado1=lanzar_dado()\n",
        "print(\"El dado 1 quedo en\",valor_dado1)\n",
        "\n",
        "valor_dado2=lanzar_dado()\n",
        "print(\"El dado 2 quedo en\",valor_dado2)\n",
        "\n",
        "\n"
      ],
      "execution_count": null,
      "outputs": [
        {
          "output_type": "stream",
          "text": [
            "El dado 1 quedo en 3\n",
            "El dado 2 quedo en 5\n"
          ],
          "name": "stdout"
        }
      ]
    },
    {
      "cell_type": "markdown",
      "metadata": {
        "id": "Ch_F5aGgeUFS"
      },
      "source": [
        "---\n",
        "\n",
        "FINAL LABORATORIO\n",
        "\n",
        "---"
      ]
    }
  ]
}